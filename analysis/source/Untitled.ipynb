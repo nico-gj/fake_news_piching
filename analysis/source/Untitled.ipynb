{
 "cells": [
  {
   "cell_type": "markdown",
   "metadata": {},
   "source": [
    "## Python Setup"
   ]
  },
  {
   "cell_type": "code",
   "execution_count": 4,
   "metadata": {},
   "outputs": [],
   "source": [
    "import pandas as pd\n",
    "from text_analysis import create_bag_of_words, create_topics, get_word_counts"
   ]
  },
  {
   "cell_type": "markdown",
   "metadata": {},
   "source": [
    "## Data Read In"
   ]
  },
  {
   "cell_type": "code",
   "execution_count": 92,
   "metadata": {},
   "outputs": [],
   "source": [
    "df = pd.read_csv('../data/raw_kaggle_data/data.csv')"
   ]
  },
  {
   "cell_type": "code",
   "execution_count": 93,
   "metadata": {},
   "outputs": [],
   "source": [
    "df.columns = [col.lower() for col in list(df)]"
   ]
  },
  {
   "cell_type": "code",
   "execution_count": 94,
   "metadata": {},
   "outputs": [
    {
     "data": {
      "text/html": [
       "<div>\n",
       "<style scoped>\n",
       "    .dataframe tbody tr th:only-of-type {\n",
       "        vertical-align: middle;\n",
       "    }\n",
       "\n",
       "    .dataframe tbody tr th {\n",
       "        vertical-align: top;\n",
       "    }\n",
       "\n",
       "    .dataframe thead th {\n",
       "        text-align: right;\n",
       "    }\n",
       "</style>\n",
       "<table border=\"1\" class=\"dataframe\">\n",
       "  <thead>\n",
       "    <tr style=\"text-align: right;\">\n",
       "      <th></th>\n",
       "      <th>urls</th>\n",
       "      <th>headline</th>\n",
       "      <th>body</th>\n",
       "      <th>label</th>\n",
       "    </tr>\n",
       "  </thead>\n",
       "  <tbody>\n",
       "    <tr>\n",
       "      <th>0</th>\n",
       "      <td>http://www.bbc.com/news/world-us-canada-414191...</td>\n",
       "      <td>Four ways Bob Corker skewered Donald Trump</td>\n",
       "      <td>Image copyright Getty Images\\nOn Sunday mornin...</td>\n",
       "      <td>1</td>\n",
       "    </tr>\n",
       "    <tr>\n",
       "      <th>1</th>\n",
       "      <td>https://www.reuters.com/article/us-filmfestiva...</td>\n",
       "      <td>Linklater's war veteran comedy speaks to moder...</td>\n",
       "      <td>LONDON (Reuters) - “Last Flag Flying”, a comed...</td>\n",
       "      <td>1</td>\n",
       "    </tr>\n",
       "    <tr>\n",
       "      <th>2</th>\n",
       "      <td>https://www.nytimes.com/2017/10/09/us/politics...</td>\n",
       "      <td>Trump’s Fight With Corker Jeopardizes His Legi...</td>\n",
       "      <td>The feud broke into public view last week when...</td>\n",
       "      <td>1</td>\n",
       "    </tr>\n",
       "    <tr>\n",
       "      <th>3</th>\n",
       "      <td>https://www.reuters.com/article/us-mexico-oil-...</td>\n",
       "      <td>Egypt's Cheiron wins tie-up with Pemex for Mex...</td>\n",
       "      <td>MEXICO CITY (Reuters) - Egypt’s Cheiron Holdin...</td>\n",
       "      <td>1</td>\n",
       "    </tr>\n",
       "    <tr>\n",
       "      <th>4</th>\n",
       "      <td>http://www.cnn.com/videos/cnnmoney/2017/10/08/...</td>\n",
       "      <td>Jason Aldean opens 'SNL' with Vegas tribute</td>\n",
       "      <td>Country singer Jason Aldean, who was performin...</td>\n",
       "      <td>1</td>\n",
       "    </tr>\n",
       "  </tbody>\n",
       "</table>\n",
       "</div>"
      ],
      "text/plain": [
       "                                                urls  \\\n",
       "0  http://www.bbc.com/news/world-us-canada-414191...   \n",
       "1  https://www.reuters.com/article/us-filmfestiva...   \n",
       "2  https://www.nytimes.com/2017/10/09/us/politics...   \n",
       "3  https://www.reuters.com/article/us-mexico-oil-...   \n",
       "4  http://www.cnn.com/videos/cnnmoney/2017/10/08/...   \n",
       "\n",
       "                                            headline  \\\n",
       "0         Four ways Bob Corker skewered Donald Trump   \n",
       "1  Linklater's war veteran comedy speaks to moder...   \n",
       "2  Trump’s Fight With Corker Jeopardizes His Legi...   \n",
       "3  Egypt's Cheiron wins tie-up with Pemex for Mex...   \n",
       "4        Jason Aldean opens 'SNL' with Vegas tribute   \n",
       "\n",
       "                                                body  label  \n",
       "0  Image copyright Getty Images\\nOn Sunday mornin...      1  \n",
       "1  LONDON (Reuters) - “Last Flag Flying”, a comed...      1  \n",
       "2  The feud broke into public view last week when...      1  \n",
       "3  MEXICO CITY (Reuters) - Egypt’s Cheiron Holdin...      1  \n",
       "4  Country singer Jason Aldean, who was performin...      1  "
      ]
     },
     "execution_count": 94,
     "metadata": {},
     "output_type": "execute_result"
    }
   ],
   "source": [
    "df.head()"
   ]
  },
  {
   "cell_type": "code",
   "execution_count": 95,
   "metadata": {},
   "outputs": [
    {
     "data": {
      "text/plain": [
       "(4009, 4)"
      ]
     },
     "execution_count": 95,
     "metadata": {},
     "output_type": "execute_result"
    }
   ],
   "source": [
    "df.shape"
   ]
  },
  {
   "cell_type": "markdown",
   "metadata": {},
   "source": [
    "## Data Cleaning"
   ]
  },
  {
   "cell_type": "code",
   "execution_count": 96,
   "metadata": {},
   "outputs": [],
   "source": [
    "df['body_c'] = df['body']"
   ]
  },
  {
   "cell_type": "code",
   "execution_count": 101,
   "metadata": {},
   "outputs": [],
   "source": [
    "# Special Text Sequences\n",
    "df['body_c'] = df['body_c'].str.replace(r'^[A-Z\\s]+\\s\\(Reuters\\)\\s\\-\\s', '')\n",
    "df['body_c'] = df['body_c'].str.replace(r'\\bFILE\\sPHOTO\\:\\s.+\\n\\(Reuters\\)\\s\\-\\s', '')\n",
    "df['body_c'] = df['body_c'].str.replace(r'\\(Reuters\\)\\s\\-\\s', '')\n",
    "\n",
    "# Classic Cleaning\n",
    "df['body_c'] = df['body_c'].str.replace(r'\\(.+\\)', '')\n",
    "df['body_c'] = df['body_c'].str.replace(r'\\s+', ' ')\n",
    "df['body_c'] = df['body_c'].str.replace(r'\\n', ' ')\n",
    "df['body_c'] = df['body_c'].str.replace(r'\\'', '’')\n",
    "df['body_c'] = df['body_c'].str.strip()"
   ]
  },
  {
   "cell_type": "code",
   "execution_count": 106,
   "metadata": {
    "scrolled": false
   },
   "outputs": [
    {
     "name": "stdout",
     "output_type": "stream",
     "text": [
      "Ravens Lay Another Egg\n",
      "(Before It's News)\n",
      "After the Ravens first two games and a (2-0) start things were rather upbeat. The defense, which had only given up 10 points in total, was being compared to one of the NFL’s best all-time defenses, the 2000 Baltimore Ravens.\n",
      "Today, reality sets in and any thoughts of such comparisons are about likely as an NFL MVP award for Joe Flacco. Let’s consider a few numbers…\n",
      "During the two games since the (2-0) start that included wins over the Bengals and Browns, teams sporting a combined (1-7) record, the Ravens:\n",
      "• Have given up 70 points and 791 yards of offense\n",
      "• Yielded 339 rushing yards on 77 carries (4.4 YPC)\n",
      "• Possessed the ball 50:28 v. opponents’ 69:32\n",
      "• Are minus 5 in turnover ratio\n",
      "• Scored 16 points\n",
      "• Registered 474 yards of offense, 76 of which came on a mop-up drive led by Ryan Mallett v. Jacksonville and 71 of which were registered during yesterday’s final dink and dunk stat padding drive that resulted in zero points.\n",
      "• Quarterback Joe Flacco has a passer rating of 47.0. On the season his 65.0 rating is 31st among league starters, ahead of only rookie DeShone Kizer (50.9) of the Browns.\n",
      "• Offense has scored just 53 points with Joe Flacco on the field thus far in 2017. The Houston Texans scored 57 points yesterday alone, led by rookie DeShaun Watson.\n",
      "“You can get frustrated all you want. You can kick over trashcans if you want, but it’s not going to make you better. We have to work. We have good guys that work hard and can find a way to improve. We’ve been worse than 2-2 here before and come back and gone to the AFC Championship. So, that’s what you do. This is a long season in the National Football League, so we go to work.” ~ John Harbaugh\n",
      "Alex Collins ran hard in limited action, gaining 82 yards on 9 carries (9.1 YPC). If only the rest of the team shared his passion…Ronnie Stanley was stout holding up the left side during Joe Flacco’s 53 drop backs…Ben Watson did a nice job of finding soft spots in coverage. He had 5 catches for 43 yards.\n",
      "Willie Henry and Michael Pierce were both effective pushing the pocket and v. the run. Henry deflected two passes and added a couple of hurries. Pierce collected 7 tackles…Patrick Onwuasor played well in relief of Kamalei Correa and earned the starting job. Time will tell if the coaches agree…Jimmy Smith played a big role in limiting Antonio Brown to 4 catches for 34 yards.\n",
      "THE BAD\n",
      "Mike Wallace dropped a deep pass in the second quarter that could have changed the game’s momentum. He did atone later hauling in 6 passes for 55 yards and made a nice adjustment on the Ravens only TD. But the drop was big, particularly for a team that still lacks playmakers…The Steelers forced throws underneath and that requires skilled route runners. Breshad Perriman is anything but, and at this point you have to wonder if he’ll ever be anything other than raw. By the way, why does Bobby Engram get a hall pass as the receivers’ positional coach?\n",
      "Terrell Suggs was hardly noticeable until he jumped offsides in the fourth quarter…Tony Jefferson’s first four games as a Raven have been very forgettable. He’s late in coverage and misses too many tackles. He’s the secondary’s weak link, for the moment…Za’Darius Smith was destroyed regularly on counter runs, leaving ample real estate for Le’Veon Bell…Kamalei Correa is much closer to a bust than he is a starter. It’s as if blockers are dressed in Velcro when they engage Correa. He cannot shed blocks and only makes plays when he has a clean path to the ball carrier. He should be relegated to special teams only…Dean Pees could not dial up pressure packages to rattle Ben Roethlisberger. As is so often the case with his play designs, the Ravens tipped their blitzes pre-snap, enabling the Steelers QB time to adjust his protection assignments and get out of plays that might not work. This has been an ongoing problem. All of the effective disguising and timing of pressure packages during the preseason have suddenly vanished from the playbook and a playmaker in the making (Anthony Levine) is too often a sideline observer. By the way, Pees’ defense is now ranked 21st in the league after a fast start against the struggling Bengals and Browns that placed the unit among the league leaders.\n",
      "THE UGLY\n",
      "Joe Flacco continues to disappoint. While he didn’t get much help from his play caller or his offensive line, and let’s not forget the Wallace drop, he was a mess. He stares down receivers; lacks touch on screen passes; continues to ignore the value of cadence; throws off his back foot; misses open receivers; fails to see open receivers; hangs on to the ball too long and just flat out lacks the awareness that the league’s better quarterbacks regularly display. This is just unacceptable play from an alleged franchise QB…The play design of Marty Mornhinweg is no better than those drawn up in the schoolyard dirt. The stretch runs (Greg Roman needs to own this too) are lumbering and take too long to develop…Matt Skura and Jermaine Eluemunor were awful in place of Marshal Yanda. Their collective inabilities rendered several plays DOA…During the first half the Ravens had 69 yards of offense on 23 plays, compared to the Steelers 253 yards on 41 plays. Twenty-three of the Ravens 69 yards came on their very first play. I’m no math major but that means that on the succeeding 22 plays they averaged just 2.1 yards per snap…The Ravens offense is now ranked 30th in the league.\n",
      "Photo Credit: Baltimore Ravens\n",
      "During the past four NFL Drafts, the Ravens have had 14 picks in rounds 1 through 3. They’ve used 10 of those picks on defense. Correa has been ineffective; Kaufusi didn’t register a single stat yesterday. Wormley was inactive while Terrance Brooks and Tim Jernigan are no longer Ravens. If the losing continues, and there’s little evidence to think that it won’t, at some point someone will be the fall guy. At some point the front office and scouts are going to blame the coaching staff for not getting enough out of the players while the coaching staff will question the talent they’ve been handed.\n",
      "By the way, what is going on with Tyus Bowser?\n",
      "THE MEGAN FOX AWARD (POTG)\n",
      "Unfortunately, Megan was on vacation this week. Hopefully she’ll return in Oakland.\n",
      "The post Ravens Lay Another Egg appeared first on Baltimore Ravens News | Russell Street Report.\n",
      "Source: http://russellstreetreport.com/2017/10/02/the-good-bad-ugly-and-the-megan-fox/ravens-lay-another-egg/\n",
      "\n",
      "----------\n",
      "\n",
      "Ravens Lay Another Egg After the Ravens first two games and a start things were rather upbeat. The defense, which had only given up 10 points in total, was being compared to one of the NFL’s best all-time defenses, the 2000 Baltimore Ravens. Today, reality sets in and any thoughts of such comparisons are about likely as an NFL MVP award for Joe Flacco. Let’s consider a few numbers… During the two games since the record, the Ravens: • Have given up 70 points and 791 yards of offense • Yielded 339 rushing yards on 77 carries • Possessed the ball 50:28 v. opponents’ 69:32 • Are minus 5 in turnover ratio • Scored 16 points • Registered 474 yards of offense, 76 of which came on a mop-up drive led by Ryan Mallett v. Jacksonville and 71 of which were registered during yesterday’s final dink and dunk stat padding drive that resulted in zero points. • Quarterback Joe Flacco has a passer rating of 47.0. On the season his 65.0 rating is 31st among league starters, ahead of only rookie DeShone Kizer of the Browns. • Offense has scored just 53 points with Joe Flacco on the field thus far in 2017. The Houston Texans scored 57 points yesterday alone, led by rookie DeShaun Watson. “You can get frustrated all you want. You can kick over trashcans if you want, but it’s not going to make you better. We have to work. We have good guys that work hard and can find a way to improve. We’ve been worse than 2-2 here before and come back and gone to the AFC Championship. So, that’s what you do. This is a long season in the National Football League, so we go to work.” ~ John Harbaugh Alex Collins ran hard in limited action, gaining 82 yards on 9 carries . If only the rest of the team shared his passion…Ronnie Stanley was stout holding up the left side during Joe Flacco’s 53 drop backs…Ben Watson did a nice job of finding soft spots in coverage. He had 5 catches for 43 yards. Willie Henry and Michael Pierce were both effective pushing the pocket and v. the run. Henry deflected two passes and added a couple of hurries. Pierce collected 7 tackles…Patrick Onwuasor played well in relief of Kamalei Correa and earned the starting job. Time will tell if the coaches agree…Jimmy Smith played a big role in limiting Antonio Brown to 4 catches for 34 yards. THE BAD Mike Wallace dropped a deep pass in the second quarter that could have changed the game’s momentum. He did atone later hauling in 6 passes for 55 yards and made a nice adjustment on the Ravens only TD. But the drop was big, particularly for a team that still lacks playmakers…The Steelers forced throws underneath and that requires skilled route runners. Breshad Perriman is anything but, and at this point you have to wonder if he’ll ever be anything other than raw. By the way, why does Bobby Engram get a hall pass as the receivers’ positional coach? Terrell Suggs was hardly noticeable until he jumped offsides in the fourth quarter…Tony Jefferson’s first four games as a Raven have been very forgettable. He’s late in coverage and misses too many tackles. He’s the secondary’s weak link, for the moment…Za’Darius Smith was destroyed regularly on counter runs, leaving ample real estate for Le’Veon Bell…Kamalei Correa is much closer to a bust than he is a starter. It’s as if blockers are dressed in Velcro when they engage Correa. He cannot shed blocks and only makes plays when he has a clean path to the ball carrier. He should be relegated to special teams only…Dean Pees could not dial up pressure packages to rattle Ben Roethlisberger. As is so often the case with his play designs, the Ravens tipped their blitzes pre-snap, enabling the Steelers QB time to adjust his protection assignments and get out of plays that might not work. This has been an ongoing problem. All of the effective disguising and timing of pressure packages during the preseason have suddenly vanished from the playbook and a playmaker in the making is too often a sideline observer. By the way, Pees’ defense is now ranked 21st in the league after a fast start against the struggling Bengals and Browns that placed the unit among the league leaders. THE UGLY Joe Flacco continues to disappoint. While he didn’t get much help from his play caller or his offensive line, and let’s not forget the Wallace drop, he was a mess. He stares down receivers; lacks touch on screen passes; continues to ignore the value of cadence; throws off his back foot; misses open receivers; fails to see open receivers; hangs on to the ball too long and just flat out lacks the awareness that the league’s better quarterbacks regularly display. This is just unacceptable play from an alleged franchise QB…The play design of Marty Mornhinweg is no better than those drawn up in the schoolyard dirt. The stretch runs are lumbering and take too long to develop…Matt Skura and Jermaine Eluemunor were awful in place of Marshal Yanda. Their collective inabilities rendered several plays DOA…During the first half the Ravens had 69 yards of offense on 23 plays, compared to the Steelers 253 yards on 41 plays. Twenty-three of the Ravens 69 yards came on their very first play. I’m no math major but that means that on the succeeding 22 plays they averaged just 2.1 yards per snap…The Ravens offense is now ranked 30th in the league. Photo Credit: Baltimore Ravens During the past four NFL Drafts, the Ravens have had 14 picks in rounds 1 through 3. They’ve used 10 of those picks on defense. Correa has been ineffective; Kaufusi didn’t register a single stat yesterday. Wormley was inactive while Terrance Brooks and Tim Jernigan are no longer Ravens. If the losing continues, and there’s little evidence to think that it won’t, at some point someone will be the fall guy. At some point the front office and scouts are going to blame the coaching staff for not getting enough out of the players while the coaching staff will question the talent they’ve been handed. By the way, what is going on with Tyus Bowser? THE MEGAN FOX AWARD Unfortunately, Megan was on vacation this week. Hopefully she’ll return in Oakland. The post Ravens Lay Another Egg appeared first on Baltimore Ravens News | Russell Street Report. Source: http://russellstreetreport.com/2017/10/02/the-good-bad-ugly-and-the-megan-fox/ravens-lay-another-egg/\n"
     ]
    }
   ],
   "source": [
    "n=1543\n",
    "print(df['body'][n])\n",
    "print('\\n----------\\n')\n",
    "print(df['body_c'][n])"
   ]
  },
  {
   "cell_type": "code",
   "execution_count": null,
   "metadata": {},
   "outputs": [],
   "source": []
  }
 ],
 "metadata": {
  "kernelspec": {
   "display_name": "Python 3",
   "language": "python",
   "name": "python3"
  },
  "language_info": {
   "codemirror_mode": {
    "name": "ipython",
    "version": 3
   },
   "file_extension": ".py",
   "mimetype": "text/x-python",
   "name": "python",
   "nbconvert_exporter": "python",
   "pygments_lexer": "ipython3",
   "version": "3.6.8"
  },
  "toc": {
   "base_numbering": 1,
   "nav_menu": {},
   "number_sections": false,
   "sideBar": true,
   "skip_h1_title": false,
   "title_cell": "Table of Contents",
   "title_sidebar": "Contents",
   "toc_cell": false,
   "toc_position": {
    "height": "calc(100% - 180px)",
    "left": "10px",
    "top": "150px",
    "width": "228.6px"
   },
   "toc_section_display": true,
   "toc_window_display": true
  }
 },
 "nbformat": 4,
 "nbformat_minor": 2
}
